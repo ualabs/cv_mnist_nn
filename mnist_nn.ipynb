{
 "cells": [
  {
   "cell_type": "code",
   "execution_count": 1,
   "metadata": {},
   "outputs": [
    {
     "name": "stderr",
     "output_type": "stream",
     "text": [
      "Using TensorFlow backend.\n"
     ]
    }
   ],
   "source": [
    "%matplotlib inline\n",
    "import cv2\n",
    "import keras\n",
    "import numpy as np\n",
    "import matplotlib.pyplot as plt"
   ]
  },
  {
   "cell_type": "code",
   "execution_count": 2,
   "metadata": {},
   "outputs": [
    {
     "name": "stdout",
     "output_type": "stream",
     "text": [
      "[name: \"/cpu:0\"\n",
      "device_type: \"CPU\"\n",
      "memory_limit: 268435456\n",
      "locality {\n",
      "}\n",
      "incarnation: 7313734115192720162\n",
      ", name: \"/gpu:0\"\n",
      "device_type: \"GPU\"\n",
      "memory_limit: 7390229300\n",
      "locality {\n",
      "  bus_id: 1\n",
      "}\n",
      "incarnation: 16263669847916550204\n",
      "physical_device_desc: \"device: 0, name: GeForce GTX 1080, pci bus id: 0000:01:00.0\"\n",
      ", name: \"/gpu:1\"\n",
      "device_type: \"GPU\"\n",
      "memory_limit: 7968243712\n",
      "locality {\n",
      "  bus_id: 1\n",
      "}\n",
      "incarnation: 8625729302045675469\n",
      "physical_device_desc: \"device: 1, name: GeForce GTX 1080, pci bus id: 0000:07:00.0\"\n",
      "]\n"
     ]
    }
   ],
   "source": [
    "from tensorflow.python.client import device_lib\n",
    "print(device_lib.list_local_devices())"
   ]
  },
  {
   "cell_type": "code",
   "execution_count": 3,
   "metadata": {},
   "outputs": [
    {
     "name": "stdout",
     "output_type": "stream",
     "text": [
      "CPU times: user 24.1 s, sys: 444 ms, total: 24.5 s\n",
      "Wall time: 24.5 s\n"
     ]
    }
   ],
   "source": [
    "%%time\n",
    "train = np.loadtxt('./data/digit/train.csv', delimiter=',', skiprows=1)\n",
    "test = np.loadtxt('./data/digit/test.csv', delimiter=',', skiprows=1)"
   ]
  },
  {
   "cell_type": "code",
   "execution_count": 4,
   "metadata": {
    "collapsed": true
   },
   "outputs": [],
   "source": [
    "# сохраняем разметку в отдельную переменную\n",
    "train_label = train[:, 0]\n",
    "# приводим размерность к удобному для обаботки виду\n",
    "train_img = np.resize(train[:, 1:], (train.shape[0], 28, 28))\n",
    "test_img = np.resize(test, (test.shape[0], 28, 28))"
   ]
  },
  {
   "cell_type": "code",
   "execution_count": 5,
   "metadata": {},
   "outputs": [
    {
     "data": {
      "text/plain": [
       "(42000, 42000)"
      ]
     },
     "execution_count": 5,
     "metadata": {},
     "output_type": "execute_result"
    }
   ],
   "source": [
    "len(train_img),len(train_label)"
   ]
  },
  {
   "cell_type": "markdown",
   "metadata": {},
   "source": [
    "## Визуализируем исходные данные"
   ]
  },
  {
   "cell_type": "code",
   "execution_count": 6,
   "metadata": {},
   "outputs": [
    {
     "data": {
      "image/png": "[encoded data removed]",
      "text/plain": [
       "<matplotlib.figure.Figure at 0x7f87b8b16358>"
      ]
     },
     "metadata": {},
     "output_type": "display_data"
    }
   ],
   "source": [
    "fig = plt.figure(figsize=(20, 10))\n",
    "for i, img in enumerate(train_img[0:5], 1):\n",
    "    subplot = fig.add_subplot(1, 7, i)\n",
    "    plt.imshow(img, cmap='gray');\n",
    "    subplot.set_title('%s' % train_label[i - 1]);"
   ]
  },
  {
   "cell_type": "markdown",
   "metadata": {},
   "source": [
    "## Вычисляем X и Y составляющие градиента с помощью оператора Собеля"
   ]
  },
  {
   "cell_type": "code",
   "execution_count": 7,
   "metadata": {
    "collapsed": true
   },
   "outputs": [],
   "source": [
    "train_sobel_x = np.zeros_like(train_img)\n",
    "train_sobel_y = np.zeros_like(train_img)\n",
    "for i in range(len(train_img)):\n",
    "    train_sobel_x[i] = cv2.Sobel(train_img[i], cv2.CV_64F, dx=1, dy=0, ksize=3)\n",
    "    train_sobel_y[i] = cv2.Sobel(train_img[i], cv2.CV_64F, dx=0, dy=1, ksize=3)\n",
    "\n",
    "test_sobel_x = np.zeros_like(test_img)\n",
    "test_sobel_y = np.zeros_like(test_img)\n",
    "for i in range(len(test_img)):\n",
    "    test_sobel_x[i] = cv2.Sobel(test_img[i], cv2.CV_64F, dx=1, dy=0, ksize=3)\n",
    "    test_sobel_y[i] = cv2.Sobel(test_img[i], cv2.CV_64F, dx=0, dy=1, ksize=3)"
   ]
  },
  {
   "cell_type": "code",
   "execution_count": 8,
   "metadata": {},
   "outputs": [
    {
     "data": {
      "text/plain": [
       "(28000, 28, 28)"
      ]
     },
     "execution_count": 8,
     "metadata": {},
     "output_type": "execute_result"
    }
   ],
   "source": [
    "test_sobel_x.shape"
   ]
  },
  {
   "cell_type": "markdown",
   "metadata": {},
   "source": [
    "## Вычисляем угол и длину вектора градиента"
   ]
  },
  {
   "cell_type": "markdown",
   "metadata": {},
   "source": [
    "Делим картинку на 16 частей (4x4) и для каждой части считаем гистограмму градиентов, \n",
    "затем объединяем (concat) все вектора в один"
   ]
  },
  {
   "cell_type": "code",
   "execution_count": 9,
   "metadata": {
    "collapsed": true
   },
   "outputs": [],
   "source": [
    "BIN=16\n",
    "NX=4\n",
    "NY=4\n",
    "def get_features(imgx,imgy):\n",
    "    dx=imgx.shape[1]//NX\n",
    "    dy=imgx.shape[0]//NY\n",
    "    rez=np.zeros((NY,NX,BIN))\n",
    "    for ix in range(NX):\n",
    "        for iy in range(NY):\n",
    "            x1=dx*ix\n",
    "            y1=dy*iy\n",
    "            g,theta=cv2.cartToPolar(imgx[y1:y1+dy,x1:x1+dx], imgy[y1:y1+dy,x1:x1+dx])\n",
    "            hist, borders=np.histogram(theta,bins=BIN,range=(0., 2. * np.pi),weights=g)\n",
    "            rez[iy,ix]=hist\n",
    "    return rez.flatten()\n"
   ]
  },
  {
   "cell_type": "markdown",
   "metadata": {},
   "source": [
    "## Вычисляем гистограммы градиентов"
   ]
  },
  {
   "cell_type": "code",
   "execution_count": 10,
   "metadata": {},
   "outputs": [
    {
     "name": "stdout",
     "output_type": "stream",
     "text": [
      "CPU times: user 1min 5s, sys: 20 ms, total: 1min 5s\n",
      "Wall time: 1min 5s\n"
     ]
    }
   ],
   "source": [
    "%%time\n",
    "train_hist = np.zeros((len(train_img), NX*NY*BIN))\n",
    "for i,img in enumerate(train_img):\n",
    "    train_hist[i] = get_features(train_sobel_x[i],train_sobel_y[i])\n",
    "test_hist = np.zeros((len(test_img), NX*NY*BIN))\n",
    "for i,img in enumerate(test_img):\n",
    "    test_hist[i] = get_features(test_sobel_x[i],test_sobel_y[i])"
   ]
  },
  {
   "cell_type": "markdown",
   "metadata": {},
   "source": [
    "## Нормируем вектор гистограммы"
   ]
  },
  {
   "cell_type": "code",
   "execution_count": 11,
   "metadata": {},
   "outputs": [],
   "source": [
    "train_hist = train_hist / np.linalg.norm(train_hist, axis=1)[:, None]\n",
    "test_hist = test_hist / np.linalg.norm(test_hist, axis=1)[:, None]"
   ]
  },
  {
   "cell_type": "markdown",
   "metadata": {},
   "source": [
    "## Разбиваем выборку на обучение и валидацию"
   ]
  },
  {
   "cell_type": "code",
   "execution_count": 12,
   "metadata": {
    "collapsed": true
   },
   "outputs": [],
   "source": [
    "from sklearn.model_selection import train_test_split\n",
    "y_train, y_val, x_train, x_val = train_test_split(\n",
    "    np.array(train_label), np.array(train_hist), test_size=0.1, random_state=42)"
   ]
  },
  {
   "cell_type": "markdown",
   "metadata": {},
   "source": [
    "## Собираем полносвязную сеть для обучения"
   ]
  },
  {
   "cell_type": "code",
   "execution_count": 13,
   "metadata": {
    "collapsed": true
   },
   "outputs": [],
   "source": [
    "model = keras.models.Sequential()\n",
    "model.add(keras.layers.Dense(256, input_dim=x_train.shape[1], activation='relu'))\n",
    "model.add(keras.layers.Dropout(0.4, noise_shape=None, seed=123))\n",
    "model.add(keras.layers.Dense(256, input_dim=x_train.shape[1], activation='relu'))\n",
    "model.add(keras.layers.Dropout(0.4, noise_shape=None, seed=1234))\n",
    "model.add(keras.layers.Dense(256, input_dim=x_train.shape[1], activation='relu'))\n",
    "model.add(keras.layers.Dropout(0.4, noise_shape=None, seed=12345))\n",
    "model.add(keras.layers.Dense(10, activation='softmax'))\n",
    "\n",
    "from keras import optimizers\n",
    "model.compile(optimizer='adam',\n",
    "              loss='categorical_crossentropy',\n",
    "              metrics=['accuracy'])"
   ]
  },
  {
   "cell_type": "markdown",
   "metadata": {},
   "source": [
    "## Выводим информацию о модели"
   ]
  },
  {
   "cell_type": "code",
   "execution_count": 14,
   "metadata": {},
   "outputs": [
    {
     "name": "stdout",
     "output_type": "stream",
     "text": [
      "_________________________________________________________________\n",
      "Layer (type)                 Output Shape              Param #   \n",
      "=================================================================\n",
      "dense_1 (Dense)              (None, 256)               65792     \n",
      "_________________________________________________________________\n",
      "dropout_1 (Dropout)          (None, 256)               0         \n",
      "_________________________________________________________________\n",
      "dense_2 (Dense)              (None, 256)               65792     \n",
      "_________________________________________________________________\n",
      "dropout_2 (Dropout)          (None, 256)               0         \n",
      "_________________________________________________________________\n",
      "dense_3 (Dense)              (None, 256)               65792     \n",
      "_________________________________________________________________\n",
      "dropout_3 (Dropout)          (None, 256)               0         \n",
      "_________________________________________________________________\n",
      "dense_4 (Dense)              (None, 10)                2570      \n",
      "=================================================================\n",
      "Total params: 199,946\n",
      "Trainable params: 199,946\n",
      "Non-trainable params: 0\n",
      "_________________________________________________________________\n"
     ]
    }
   ],
   "source": [
    "model.summary()"
   ]
  },
  {
   "cell_type": "markdown",
   "metadata": {},
   "source": [
    "## One hot encoding разметки"
   ]
  },
  {
   "cell_type": "code",
   "execution_count": 15,
   "metadata": {
    "collapsed": true
   },
   "outputs": [],
   "source": [
    "from keras.utils import np_utils\n",
    "y_train_labels = np_utils.to_categorical(y_train)"
   ]
  },
  {
   "cell_type": "code",
   "execution_count": 16,
   "metadata": {},
   "outputs": [
    {
     "data": {
      "text/plain": [
       "(37800, 10)"
      ]
     },
     "execution_count": 16,
     "metadata": {},
     "output_type": "execute_result"
    }
   ],
   "source": [
    "y_train_labels.shape"
   ]
  },
  {
   "cell_type": "markdown",
   "metadata": {},
   "source": [
    "## Запускаем обучение"
   ]
  },
  {
   "cell_type": "markdown",
   "metadata": {},
   "source": [
    "Переодически проверяем решение на валидационной выборке, для контроля переобучения "
   ]
  },
  {
   "cell_type": "code",
   "execution_count": 17,
   "metadata": {
    "scrolled": true
   },
   "outputs": [
    {
     "name": "stdout",
     "output_type": "stream",
     "text": [
      "Epoch 1/10\n",
      "37800/37800 [==============================] - 1s - loss: 0.3769 - acc: 0.8841     \n",
      "Epoch 2/10\n",
      "37800/37800 [==============================] - 1s - loss: 0.1172 - acc: 0.9649     \n",
      "Epoch 3/10\n",
      "37800/37800 [==============================] - 1s - loss: 0.0930 - acc: 0.9725     \n",
      "Epoch 4/10\n",
      "37800/37800 [==============================] - 1s - loss: 0.0748 - acc: 0.9777     \n",
      "Epoch 5/10\n",
      "37800/37800 [==============================] - 1s - loss: 0.0672 - acc: 0.9801     \n",
      "Epoch 6/10\n",
      "37800/37800 [==============================] - 1s - loss: 0.0577 - acc: 0.9828     \n",
      "Epoch 7/10\n",
      "37800/37800 [==============================] - 1s - loss: 0.0514 - acc: 0.9847     \n",
      "Epoch 8/10\n",
      "37800/37800 [==============================] - 1s - loss: 0.0482 - acc: 0.9853     \n",
      "Epoch 9/10\n",
      "37800/37800 [==============================] - 1s - loss: 0.0439 - acc: 0.9873     \n",
      "Epoch 10/10\n",
      "37800/37800 [==============================] - 1s - loss: 0.0413 - acc: 0.9870     \n",
      "3360/4200 [=======================>......] - ETA: 0s\n",
      "#0 Accuracy: 0.984047619048\n",
      "\n",
      "Epoch 1/10\n",
      "37800/37800 [==============================] - 1s - loss: 0.0364 - acc: 0.9890     \n",
      "Epoch 2/10\n",
      "37800/37800 [==============================] - 1s - loss: 0.0350 - acc: 0.9892     \n",
      "Epoch 3/10\n",
      "37800/37800 [==============================] - 1s - loss: 0.0338 - acc: 0.9893     \n",
      "Epoch 4/10\n",
      "37800/37800 [==============================] - 1s - loss: 0.0317 - acc: 0.9903     \n",
      "Epoch 5/10\n",
      "37800/37800 [==============================] - 1s - loss: 0.0296 - acc: 0.9909     \n",
      "Epoch 6/10\n",
      "37800/37800 [==============================] - 1s - loss: 0.0307 - acc: 0.9908     \n",
      "Epoch 7/10\n",
      "37800/37800 [==============================] - 1s - loss: 0.0252 - acc: 0.9920     \n",
      "Epoch 8/10\n",
      "37800/37800 [==============================] - 1s - loss: 0.0277 - acc: 0.9912     \n",
      "Epoch 9/10\n",
      "37800/37800 [==============================] - 1s - loss: 0.0226 - acc: 0.9931     \n",
      "Epoch 10/10\n",
      "37800/37800 [==============================] - 1s - loss: 0.0244 - acc: 0.9928     \n",
      "3584/4200 [========================>.....] - ETA: 0s\n",
      "#1 Accuracy: 0.987380952381\n",
      "\n",
      "Epoch 1/10\n",
      "37800/37800 [==============================] - 1s - loss: 0.0207 - acc: 0.9936     \n",
      "Epoch 2/10\n",
      "37800/37800 [==============================] - 1s - loss: 0.0215 - acc: 0.9934     \n",
      "Epoch 3/10\n",
      "37800/37800 [==============================] - 1s - loss: 0.0220 - acc: 0.9934     \n",
      "Epoch 4/10\n",
      "37800/37800 [==============================] - 1s - loss: 0.0201 - acc: 0.9939     \n",
      "Epoch 5/10\n",
      "37800/37800 [==============================] - 1s - loss: 0.0202 - acc: 0.9935     \n",
      "Epoch 6/10\n",
      "37800/37800 [==============================] - 1s - loss: 0.0216 - acc: 0.9931     \n",
      "Epoch 7/10\n",
      "37800/37800 [==============================] - 1s - loss: 0.0191 - acc: 0.9941     \n",
      "Epoch 8/10\n",
      "37800/37800 [==============================] - 1s - loss: 0.0212 - acc: 0.9936     \n",
      "Epoch 9/10\n",
      "37800/37800 [==============================] - 1s - loss: 0.0188 - acc: 0.9938     \n",
      "Epoch 10/10\n",
      "37800/37800 [==============================] - 1s - loss: 0.0165 - acc: 0.9949     \n",
      "3296/4200 [======================>.......] - ETA: 0s\n",
      "#2 Accuracy: 0.987142857143\n",
      "\n",
      "Epoch 1/10\n",
      "37800/37800 [==============================] - 1s - loss: 0.0181 - acc: 0.9939     \n",
      "Epoch 2/10\n",
      "37800/37800 [==============================] - 1s - loss: 0.0173 - acc: 0.9944     \n",
      "Epoch 3/10\n",
      "37800/37800 [==============================] - 1s - loss: 0.0162 - acc: 0.9948     \n",
      "Epoch 4/10\n",
      "37800/37800 [==============================] - 1s - loss: 0.0162 - acc: 0.9946     \n",
      "Epoch 5/10\n",
      "37800/37800 [==============================] - 1s - loss: 0.0160 - acc: 0.9948     \n",
      "Epoch 6/10\n",
      "37800/37800 [==============================] - 1s - loss: 0.0163 - acc: 0.9952     \n",
      "Epoch 7/10\n",
      "37800/37800 [==============================] - 1s - loss: 0.0132 - acc: 0.9954     \n",
      "Epoch 8/10\n",
      "37800/37800 [==============================] - 1s - loss: 0.0153 - acc: 0.9948     \n",
      "Epoch 9/10\n",
      "37800/37800 [==============================] - 1s - loss: 0.0154 - acc: 0.9951     \n",
      "Epoch 10/10\n",
      "37800/37800 [==============================] - 1s - loss: 0.0116 - acc: 0.9961     \n",
      "3360/4200 [=======================>......] - ETA: 0s\n",
      "#3 Accuracy: 0.98619047619\n",
      "\n",
      "Epoch 1/10\n",
      "37800/37800 [==============================] - 1s - loss: 0.0162 - acc: 0.9948     \n",
      "Epoch 2/10\n",
      "37800/37800 [==============================] - 1s - loss: 0.0155 - acc: 0.9951     \n",
      "Epoch 3/10\n",
      "37800/37800 [==============================] - 1s - loss: 0.0112 - acc: 0.9962     \n",
      "Epoch 4/10\n",
      "37800/37800 [==============================] - 1s - loss: 0.0147 - acc: 0.9953     \n",
      "Epoch 5/10\n",
      "37800/37800 [==============================] - 1s - loss: 0.0140 - acc: 0.9958     \n",
      "Epoch 6/10\n",
      "37800/37800 [==============================] - 1s - loss: 0.0131 - acc: 0.9962     \n",
      "Epoch 7/10\n",
      "37800/37800 [==============================] - 1s - loss: 0.0146 - acc: 0.9956     \n",
      "Epoch 8/10\n",
      "37800/37800 [==============================] - 1s - loss: 0.0124 - acc: 0.9964     \n",
      "Epoch 9/10\n",
      "37800/37800 [==============================] - 1s - loss: 0.0136 - acc: 0.9961     \n",
      "Epoch 10/10\n",
      "37800/37800 [==============================] - 1s - loss: 0.0104 - acc: 0.9961     \n",
      "3712/4200 [=========================>....] - ETA: 0s\n",
      "#4 Accuracy: 0.987619047619\n",
      "\n",
      "Epoch 1/10\n",
      "37800/37800 [==============================] - 1s - loss: 0.0130 - acc: 0.9955     \n",
      "Epoch 2/10\n",
      "37800/37800 [==============================] - 1s - loss: 0.0134 - acc: 0.9962     \n",
      "Epoch 3/10\n",
      "37800/37800 [==============================] - 1s - loss: 0.0125 - acc: 0.9958     \n",
      "Epoch 4/10\n",
      "37800/37800 [==============================] - 1s - loss: 0.0116 - acc: 0.9963     \n",
      "Epoch 5/10\n",
      "37800/37800 [==============================] - 1s - loss: 0.0123 - acc: 0.9963     \n",
      "Epoch 6/10\n",
      "37800/37800 [==============================] - 1s - loss: 0.0103 - acc: 0.9969     \n",
      "Epoch 7/10\n",
      "37800/37800 [==============================] - 1s - loss: 0.0148 - acc: 0.9959     \n",
      "Epoch 8/10\n",
      "37800/37800 [==============================] - 1s - loss: 0.0135 - acc: 0.9963     \n",
      "Epoch 9/10\n",
      "37800/37800 [==============================] - 1s - loss: 0.0110 - acc: 0.9965     \n",
      "Epoch 10/10\n",
      "37800/37800 [==============================] - 1s - loss: 0.0099 - acc: 0.9969     \n",
      "3168/4200 [=====================>........] - ETA: 0s\n",
      "#5 Accuracy: 0.99\n",
      "\n"
     ]
    }
   ],
   "source": [
    "from sklearn.metrics import accuracy_score\n",
    "for t in range(6):\n",
    "    model.fit(x_train, y_train_labels, batch_size=64,epochs=10)\n",
    "    pred_val = model.predict_classes(x_val)\n",
    "    print('\\n#%d Accuracy: %s\\n' % (t,accuracy_score(y_val, pred_val)))"
   ]
  },
  {
   "cell_type": "markdown",
   "metadata": {},
   "source": [
    "## Предсказываем класс объекта"
   ]
  },
  {
   "cell_type": "code",
   "execution_count": 18,
   "metadata": {},
   "outputs": [
    {
     "name": "stdout",
     "output_type": "stream",
     "text": [
      "3168/4200 [=====================>........] - ETA: 0s"
     ]
    }
   ],
   "source": [
    "pred_val = model.predict_classes(x_val)"
   ]
  },
  {
   "cell_type": "markdown",
   "metadata": {},
   "source": [
    "## Оцениваем качество решение на валидационной выборке"
   ]
  },
  {
   "cell_type": "code",
   "execution_count": 19,
   "metadata": {},
   "outputs": [
    {
     "name": "stdout",
     "output_type": "stream",
     "text": [
      "Accuracy: 0.99\n"
     ]
    }
   ],
   "source": [
    "from sklearn.metrics import accuracy_score\n",
    "print('Accuracy: %s' % accuracy_score(y_val, pred_val))"
   ]
  },
  {
   "cell_type": "code",
   "execution_count": 20,
   "metadata": {},
   "outputs": [
    {
     "name": "stdout",
     "output_type": "stream",
     "text": [
      "             precision    recall  f1-score   support\n",
      "\n",
      "        0.0       1.00      0.99      1.00       408\n",
      "        1.0       1.00      0.99      1.00       471\n",
      "        2.0       1.00      0.99      0.99       420\n",
      "        3.0       0.99      0.99      0.99       506\n",
      "        4.0       0.99      0.98      0.98       397\n",
      "        5.0       0.99      0.99      0.99       339\n",
      "        6.0       0.99      1.00      0.99       402\n",
      "        7.0       0.98      0.99      0.99       438\n",
      "        8.0       0.98      0.99      0.99       403\n",
      "        9.0       0.99      0.99      0.99       416\n",
      "\n",
      "avg / total       0.99      0.99      0.99      4200\n",
      "\n"
     ]
    }
   ],
   "source": [
    "from sklearn.metrics import classification_report\n",
    "print(classification_report(y_val, pred_val))"
   ]
  },
  {
   "cell_type": "code",
   "execution_count": 21,
   "metadata": {},
   "outputs": [
    {
     "name": "stdout",
     "output_type": "stream",
     "text": [
      "[[405   0   1   0   0   0   1   0   1   0]\n",
      " [  0 468   1   0   0   0   0   2   0   0]\n",
      " [  0   0 416   0   0   1   1   0   2   0]\n",
      " [  0   0   0 501   0   3   0   1   1   0]\n",
      " [  0   0   0   0 389   0   2   2   0   4]\n",
      " [  0   0   0   2   0 337   0   0   0   0]\n",
      " [  0   0   0   0   0   0 400   0   2   0]\n",
      " [  0   0   0   0   2   0   0 433   1   2]\n",
      " [  1   0   0   0   1   1   0   1 399   0]\n",
      " [  0   0   0   1   2   0   0   2   1 410]]\n"
     ]
    }
   ],
   "source": [
    "from sklearn.metrics import confusion_matrix\n",
    "print(confusion_matrix(y_val, pred_val))"
   ]
  },
  {
   "cell_type": "markdown",
   "metadata": {},
   "source": [
    "## Предсказания на тестовыйх данных"
   ]
  },
  {
   "cell_type": "code",
   "execution_count": 22,
   "metadata": {},
   "outputs": [
    {
     "name": "stdout",
     "output_type": "stream",
     "text": [
      "25152/28000 [=========================>....] - ETA: 0s"
     ]
    }
   ],
   "source": [
    "pred_test = model.predict_classes(test_hist)"
   ]
  },
  {
   "cell_type": "markdown",
   "metadata": {},
   "source": [
    "## Визуализируем предсказания"
   ]
  },
  {
   "cell_type": "code",
   "execution_count": 23,
   "metadata": {},
   "outputs": [
    {
     "data": {
      "image/png": "[encoded data removed]",
      "text/plain": [
       "<matplotlib.figure.Figure at 0x7f8811340048>"
      ]
     },
     "metadata": {},
     "output_type": "display_data"
    }
   ],
   "source": [
    "fig = plt.figure(figsize=(20, 10))\n",
    "for i, img in enumerate(test_img[0:5], 1):\n",
    "    subplot = fig.add_subplot(1, 7, i)\n",
    "    plt.imshow(img, cmap='gray');\n",
    "    subplot.set_title('%s' % pred_test[i - 1]);"
   ]
  },
  {
   "cell_type": "markdown",
   "metadata": {},
   "source": [
    "## Готовим файл для отправки"
   ]
  },
  {
   "cell_type": "code",
   "execution_count": 24,
   "metadata": {
    "collapsed": true
   },
   "outputs": [],
   "source": [
    "with open('submit.txt', 'w') as dst:\n",
    "    dst.write('ImageId,Label\\n')\n",
    "    for i, p in enumerate(pred_test, 1):\n",
    "        dst.write('%s,%s\\n' % (i, p))"
   ]
  },
  {
   "cell_type": "code",
   "execution_count": 25,
   "metadata": {
    "collapsed": true
   },
   "outputs": [],
   "source": [
    "# Your submission scored 0.98614"
   ]
  }
 ],
 "metadata": {
  "kernelspec": {
   "display_name": "Python 3",
   "language": "python",
   "name": "python3"
  },
  "language_info": {
   "codemirror_mode": {
    "name": "ipython",
    "version": 3
   },
   "file_extension": ".py",
   "mimetype": "text/x-python",
   "name": "python",
   "nbconvert_exporter": "python",
   "pygments_lexer": "ipython3",
   "version": "3.5.2"
  }
 },
 "nbformat": 4,
 "nbformat_minor": 2
}
